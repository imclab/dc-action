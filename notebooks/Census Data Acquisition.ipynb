{
 "metadata": {
  "name": "Census Data Acquisition"
 },
 "nbformat": 3,
 "nbformat_minor": 0,
 "worksheets": [
  {
   "cells": [
    {
     "cell_type": "code",
     "collapsed": false,
     "input": [
      "import requests\n",
      "import pandas as pd"
     ],
     "language": "python",
     "metadata": {},
     "outputs": [],
     "prompt_number": 2
    },
    {
     "cell_type": "code",
     "collapsed": false,
     "input": [
      "API_KEY = '4381248de6a543cd2aaa15ccaf0ce2d55703418b'\n",
      "YEAR = '2011'\n",
      "SURVEY = 'acs5' #'acs5' for five year acs, 'sf1' for 2010 decenial census. \n",
      "STATE = '11'\n",
      "COUNTY = '01' \n",
      "variable = 'B03002_003E'\n",
      "\n",
      "# variable descriptions\n",
      "# five year acs: http://www.census.gov/developers/data/acs_5yr_2011_var.xml\n",
      "# \n",
      "\n",
      "variables = {\n",
      "    'total_pop': 'B01003_001E',\n",
      "    'total_pop_nloh': 'B03002_002E',\n",
      "    'total_pop_white_nloh': 'B03002_003E',\n",
      "    'total_pop_black_nloh': 'B03002_004E',\n",
      "    'total_pop_indian_nloh': 'B03002_005E',\n",
      "    'total_pop_asian_nloh': 'B03002_006E',\n",
      "    'total_pop_hawaiian_nloh': 'B03002_007E',\n",
      "    'total_pop_other_nloh': 'B03002_008E'\n",
      "}"
     ],
     "language": "python",
     "metadata": {},
     "outputs": [],
     "prompt_number": 102
    },
    {
     "cell_type": "code",
     "collapsed": false,
     "input": [
      "url = 'http://api.census.gov/data/%s/%s?key=%s&get=%s&for=tract:*&in=state:%s+county:%s' % (YEAR, SURVEY, API_KEY, variable, STATE, COUNTY)\n",
      "res = requests.get(url)\n",
      "pops = res.json[1:]\n",
      "pop_list = map(lambda x: int(x[0]), pops)"
     ],
     "language": "python",
     "metadata": {},
     "outputs": [],
     "prompt_number": 103
    },
    {
     "cell_type": "code",
     "collapsed": false,
     "input": [
      "sum(pop_list)"
     ],
     "language": "python",
     "metadata": {},
     "outputs": [
      {
       "output_type": "pyout",
       "prompt_number": 104,
       "text": [
        "202229"
       ]
      }
     ],
     "prompt_number": 104
    },
    {
     "cell_type": "code",
     "collapsed": false,
     "input": [
      "tracts = pd.read_csv('http://www.census.gov/geo/maps-data/data/docs/rel/trf_txt/dc11trf.txt', header=None)"
     ],
     "language": "python",
     "metadata": {},
     "outputs": [],
     "prompt_number": 15
    },
    {
     "cell_type": "code",
     "collapsed": false,
     "input": [
      "tracts.ix[0][3]"
     ],
     "language": "python",
     "metadata": {},
     "outputs": [
      {
       "output_type": "pyout",
       "prompt_number": 56,
       "text": [
        "11001000100"
       ]
      }
     ],
     "prompt_number": 56
    },
    {
     "cell_type": "code",
     "collapsed": false,
     "input": [],
     "language": "python",
     "metadata": {},
     "outputs": []
    }
   ],
   "metadata": {}
  }
 ]
}