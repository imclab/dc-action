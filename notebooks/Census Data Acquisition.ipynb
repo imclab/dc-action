{
 "metadata": {
  "name": ""
 },
 "nbformat": 3,
 "nbformat_minor": 0,
 "worksheets": [
  {
   "cells": [
    {
     "cell_type": "code",
     "collapsed": false,
     "input": [
      "import requests"
     ],
     "language": "python",
     "metadata": {},
     "outputs": [],
     "prompt_number": 1
    },
    {
     "cell_type": "code",
     "collapsed": false,
     "input": [
      "# general census api documentation: http://www.census.gov/developers/\n",
      "# available data sets: http://www.census.gov/developers/data/\n",
      "\n",
      "# variable descriptions\n",
      "# five year acs: http://www.census.gov/developers/data/acs_5yr_2011_var.xml\n",
      "# 2010 census: http://www.census.gov/developers/data/sf1.xml\n",
      "# csv with info about dc census tracts: http://www.census.gov/geo/maps-data/data/docs/rel/trf_txt/dc11trf.txt"
     ],
     "language": "python",
     "metadata": {},
     "outputs": [],
     "prompt_number": 2
    },
    {
     "cell_type": "code",
     "collapsed": false,
     "input": [
      "BASE_URL = 'http://api.census.gov'\n",
      "API_KEY = '4381248de6a543cd2aaa15ccaf0ce2d55703418b'\n",
      "year = '2011'       # '2010' for the 2006-2010 ACS or '2011' for the 2007-2011 ACS \n",
      "survey = 'acs5'     # 'acs5' for five year acs, 'sf1' for 2010 decenial census. \n",
      "state = '11'        # dc\n",
      "county = '01'       # dc only has one county\n",
      "variable = 'B03002_003E' #test variable\n",
      "\n",
      "# the api take a comma-separated string of variables so a \n",
      "# a big list of variables could joined for one big \n",
      "# query or we could iterate through the list doing\n",
      "# multiple queries.  The dict below is more for \n",
      "# documentation purposes. \n",
      "# nloh = non-latino or hispanic\n",
      "variables = {\n",
      "    'total_pop': {\n",
      "        'total_pop': 'B01003_001E',\n",
      "        'total_pop_nloh': 'B03002_002E', \n",
      "        'total_pop_white_nloh': 'B03002_003E',\n",
      "        'total_pop_black_nloh': 'B03002_004E',\n",
      "        'total_pop_indian_nloh': 'B03002_005E',\n",
      "        'total_pop_asian_nloh': 'B03002_006E',\n",
      "        'total_pop_hawaiian_nloh': 'B03002_007E',\n",
      "        'total_pop_other_nloh': 'B03002_008E'\n",
      "    },\n",
      "    'child_pop': {\n",
      "        'female_under_5': 'B01001_027E',\n",
      "        'female_5_to_9': 'B01001_028E',\n",
      "        'female_10_to_14': 'B01001_029E',\n",
      "        'female_15_to_17': 'B01001_030E',\n",
      "        'male_under_5': 'B01001_003E',\n",
      "        'male_5_to_9': 'B01001_004E',\n",
      "        'male_10_to_14': 'B01001_005E',\n",
      "        'male_15_to_17': 'B01001_006E'\n",
      "    }\n",
      "}"
     ],
     "language": "python",
     "metadata": {},
     "outputs": [],
     "prompt_number": 3
    },
    {
     "cell_type": "code",
     "collapsed": false,
     "input": [
      "url = '%s/data/%s/%s?key=%s&get=%s&for=tract:*&in=state:%s+county:%s' % (BASE_URL, year, survey, API_KEY, variable, state, county)\n",
      "res = requests.get(url)\n",
      "pops = res.json()[1:]\n",
      "\n",
      "# The response for all queries is formatted as a \n",
      "# two dimensional JSON array where the first \n",
      "# row provides column names and subsequent \n",
      "# rows provide data values.\n",
      "# An example query response looks like this:\n",
      "\n",
      "# [[\"P0010001\",\"NAME\",\"state\"],\n",
      "# [\"710231\",\"Alaska\",\"02\"],\n",
      "# [\"4779736\",\"Alabama\",\"01\"],\n",
      "# [\"2915918\",\"Arkansas\",\"05\"],\n",
      "# [\"6392017\",\"Arizona\",\"04\"],\n",
      "# [\"37253956\",\"California\",\"06\"],\n",
      "\n",
      "pop_list = map(lambda x: int(x[0]), pops)\n",
      "sum(pop_list)"
     ],
     "language": "python",
     "metadata": {},
     "outputs": [
      {
       "metadata": {},
       "output_type": "pyout",
       "prompt_number": 4,
       "text": [
        "202229"
       ]
      }
     ],
     "prompt_number": 4
    },
    {
     "cell_type": "code",
     "collapsed": false,
     "input": [],
     "language": "python",
     "metadata": {},
     "outputs": []
    }
   ],
   "metadata": {}
  }
 ]
}